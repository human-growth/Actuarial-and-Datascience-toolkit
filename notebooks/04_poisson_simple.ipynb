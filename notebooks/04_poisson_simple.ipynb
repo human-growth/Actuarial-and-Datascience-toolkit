import numpy as np
import matplotlib.pyplot as plt
from math import exp, factorial

# Loi de Poisson : probabilité que N = k
def poisson_pmf(k, lam):
    return (lam**k * exp(-lam)) / factorial(k)

# Simulation de la loi de Poisson
def simulate_poisson(lam, n):
    return np.random.poisson(lam, size=n)

# Visualisation de la distribution
def plot_poisson(lam, k_max=20):
    ks = range(0, k_max+1)
    probs = [poisson_pmf(k, lam) for k in ks]
    plt.bar(ks, probs)
    plt.title(f"Loi de Poisson (λ={lam})")
    plt.xlabel("k (nombre de sinistres)")
    plt.ylabel("P(N=k)")
    plt.show()



