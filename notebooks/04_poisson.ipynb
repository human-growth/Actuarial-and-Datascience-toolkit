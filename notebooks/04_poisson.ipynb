from 01_distributions.poisson_simple import poisson_pmf, simulate_poisson, plot_poisson

# Exemple 1 : PMF
print(poisson_pmf(3, lam=2))

# Exemple 2 : Simulation
sim = simulate_poisson(lam=5, n=1000)
print(sim[:10])

# Exemple 3 : Graphique
plot_poisson(lam=5, k_max=15)

